{
 "cells": [
  {
   "cell_type": "code",
   "execution_count": 2,
   "metadata": {},
   "outputs": [
    {
     "name": "stderr",
     "output_type": "stream",
     "text": [
      "/home/sasaigoli/anaconda3/envs/transcription/lib/python3.13/site-packages/tqdm/auto.py:21: TqdmWarning: IProgress not found. Please update jupyter and ipywidgets. See https://ipywidgets.readthedocs.io/en/stable/user_install.html\n",
      "  from .autonotebook import tqdm as notebook_tqdm\n",
      "Device set to use cuda:0\n",
      "Using `chunk_length_s` is very experimental with seq2seq models. The results will not necessarily be entirely accurate and will have caveats. More information: https://github.com/huggingface/transformers/pull/20104. Ignore this warning with pipeline(..., ignore_warning=True). To use Whisper for long-form transcription, use rather the model's `generate` method directly as the model relies on it's own chunking mechanism (cf. Whisper original paper, section 3.8. Long-form Transcription).\n",
      "/home/sasaigoli/anaconda3/envs/transcription/lib/python3.13/site-packages/transformers/models/whisper/generation_whisper.py:604: FutureWarning: The input name `inputs` is deprecated. Please make sure to use `input_features` instead.\n",
      "  warnings.warn(\n",
      "Using custom `forced_decoder_ids` from the (generation) config. This is deprecated in favor of the `task` and `language` flags/config options.\n",
      "The attention mask is not set and cannot be inferred from input because pad token is same as eos token. As a consequence, you may observe unexpected behavior. Please pass your input's `attention_mask` to obtain reliable results.\n"
     ]
    }
   ],
   "source": [
    "import torch\n",
    "from transformers import pipeline\n",
    "\n",
    "# path to the audio file to be transcribed\n",
    "audio = \"/home/sasaigoli/Documents/DKProximityNetwork/trialgoat/Kannada-Female-Prathibha.mp3\"\n",
    "device = \"cuda:0\" if torch.cuda.is_available() else \"cpu\"\n",
    "\n",
    "transcribe = pipeline(task=\"automatic-speech-recognition\", model=\"vasista22/whisper-kannada-tiny\", chunk_length_s=30, device=device)\n",
    "transcribe.model.config.forced_decoder_ids = transcribe.tokenizer.get_decoder_prompt_ids(language=\"kn\", task=\"transcribe\")\n",
    "\n",
    "# print('Transcription: ', transcribe(audio)[\"text\"])\n",
    "transcript = transcribe(audio)[\"text\"]\n",
    "\n",
    "with open(\"transcription_output.txt\", \"w\", encoding=\"utf-8\") as f:\n",
    "    f.write(transcript)\n",
    "\n",
    "print(\"Transcription saved to transcription_output.txt\")\n"
   ]
  },
  {
   "cell_type": "code",
   "execution_count": 4,
   "metadata": {},
   "outputs": [
    {
     "ename": "AttributeError",
     "evalue": "'FPDF' object has no attribute 'unifontsubset'",
     "output_type": "error",
     "traceback": [
      "\u001b[31m---------------------------------------------------------------------------\u001b[39m",
      "\u001b[31mAttributeError\u001b[39m                            Traceback (most recent call last)",
      "\u001b[36mCell\u001b[39m\u001b[36m \u001b[39m\u001b[32mIn[4]\u001b[39m\u001b[32m, line 13\u001b[39m\n\u001b[32m     10\u001b[39m my_string = transcript\n\u001b[32m     12\u001b[39m \u001b[38;5;66;03m# Add the string to the PDF\u001b[39;00m\n\u001b[32m---> \u001b[39m\u001b[32m13\u001b[39m \u001b[43mpdf\u001b[49m\u001b[43m.\u001b[49m\u001b[43mmulti_cell\u001b[49m\u001b[43m(\u001b[49m\u001b[32;43m0\u001b[39;49m\u001b[43m,\u001b[49m\u001b[43m \u001b[49m\u001b[32;43m10\u001b[39;49m\u001b[43m,\u001b[49m\u001b[43m \u001b[49m\u001b[43mmy_string\u001b[49m\u001b[43m)\u001b[49m \u001b[38;5;66;03m# 0 for full width, 10 for line height\u001b[39;00m\n\u001b[32m     15\u001b[39m \u001b[38;5;66;03m# Save the PDF to a file\u001b[39;00m\n\u001b[32m     16\u001b[39m pdf.output(\u001b[33m\"\u001b[39m\u001b[33m../output_string.pdf\u001b[39m\u001b[33m\"\u001b[39m)\n",
      "\u001b[36mFile \u001b[39m\u001b[32m~/anaconda3/envs/transcription/lib/python3.13/site-packages/fpdf/fpdf.py:150\u001b[39m, in \u001b[36mFPDF.check_page.<locals>.wrapper\u001b[39m\u001b[34m(self, *args, **kwargs)\u001b[39m\n\u001b[32m    148\u001b[39m     \u001b[38;5;28mself\u001b[39m.error(\u001b[33m\"\u001b[39m\u001b[33mNo page open, you need to call add_page() first\u001b[39m\u001b[33m\"\u001b[39m)\n\u001b[32m    149\u001b[39m \u001b[38;5;28;01melse\u001b[39;00m:\n\u001b[32m--> \u001b[39m\u001b[32m150\u001b[39m     \u001b[38;5;28;01mreturn\u001b[39;00m \u001b[43mfn\u001b[49m\u001b[43m(\u001b[49m\u001b[38;5;28;43mself\u001b[39;49m\u001b[43m,\u001b[49m\u001b[43m \u001b[49m\u001b[43m*\u001b[49m\u001b[43margs\u001b[49m\u001b[43m,\u001b[49m\u001b[43m \u001b[49m\u001b[43m*\u001b[49m\u001b[43m*\u001b[49m\u001b[43mkwargs\u001b[49m\u001b[43m)\u001b[49m\n",
      "\u001b[36mFile \u001b[39m\u001b[32m~/anaconda3/envs/transcription/lib/python3.13/site-packages/fpdf/fpdf.py:778\u001b[39m, in \u001b[36mFPDF.multi_cell\u001b[39m\u001b[34m(self, w, h, txt, border, align, fill, split_only)\u001b[39m\n\u001b[32m    775\u001b[39m \u001b[38;5;129m@check_page\u001b[39m\n\u001b[32m    776\u001b[39m \u001b[38;5;28;01mdef\u001b[39;00m\u001b[38;5;250m \u001b[39m\u001b[34mmulti_cell\u001b[39m(\u001b[38;5;28mself\u001b[39m, w, h, txt=\u001b[33m'\u001b[39m\u001b[33m'\u001b[39m, border=\u001b[32m0\u001b[39m, align=\u001b[33m'\u001b[39m\u001b[33mJ\u001b[39m\u001b[33m'\u001b[39m, fill=\u001b[32m0\u001b[39m, split_only=\u001b[38;5;28;01mFalse\u001b[39;00m):\n\u001b[32m    777\u001b[39m     \u001b[33m\"\u001b[39m\u001b[33mOutput text with automatic or explicit line breaks\u001b[39m\u001b[33m\"\u001b[39m\n\u001b[32m--> \u001b[39m\u001b[32m778\u001b[39m     txt = \u001b[38;5;28;43mself\u001b[39;49m\u001b[43m.\u001b[49m\u001b[43mnormalize_text\u001b[49m\u001b[43m(\u001b[49m\u001b[43mtxt\u001b[49m\u001b[43m)\u001b[49m\n\u001b[32m    779\u001b[39m     ret = [] \u001b[38;5;66;03m# if split_only = True, returns splited text cells\u001b[39;00m\n\u001b[32m    780\u001b[39m     cw=\u001b[38;5;28mself\u001b[39m.current_font[\u001b[33m'\u001b[39m\u001b[33mcw\u001b[39m\u001b[33m'\u001b[39m]\n",
      "\u001b[36mFile \u001b[39m\u001b[32m~/anaconda3/envs/transcription/lib/python3.13/site-packages/fpdf/fpdf.py:1099\u001b[39m, in \u001b[36mFPDF.normalize_text\u001b[39m\u001b[34m(self, txt)\u001b[39m\n\u001b[32m   1096\u001b[39m \u001b[33m\"\u001b[39m\u001b[33mCheck that text input is in the correct format/encoding\u001b[39m\u001b[33m\"\u001b[39m\n\u001b[32m   1097\u001b[39m \u001b[38;5;66;03m# - for TTF unicode fonts: unicode object (utf8 encoding)\u001b[39;00m\n\u001b[32m   1098\u001b[39m \u001b[38;5;66;03m# - for built-in fonts: string instances (latin 1 encoding)\u001b[39;00m\n\u001b[32m-> \u001b[39m\u001b[32m1099\u001b[39m \u001b[38;5;28;01mif\u001b[39;00m \u001b[38;5;28;43mself\u001b[39;49m\u001b[43m.\u001b[49m\u001b[43munifontsubset\u001b[49m \u001b[38;5;129;01mand\u001b[39;00m \u001b[38;5;28misinstance\u001b[39m(txt, \u001b[38;5;28mstr\u001b[39m) \u001b[38;5;129;01mand\u001b[39;00m \u001b[38;5;129;01mnot\u001b[39;00m PY3K:\n\u001b[32m   1100\u001b[39m     txt = txt.decode(\u001b[33m'\u001b[39m\u001b[33mutf8\u001b[39m\u001b[33m'\u001b[39m)\n\u001b[32m   1101\u001b[39m \u001b[38;5;28;01melif\u001b[39;00m \u001b[38;5;129;01mnot\u001b[39;00m \u001b[38;5;28mself\u001b[39m.unifontsubset \u001b[38;5;129;01mand\u001b[39;00m \u001b[38;5;28misinstance\u001b[39m(txt, unicode) \u001b[38;5;129;01mand\u001b[39;00m \u001b[38;5;129;01mnot\u001b[39;00m PY3K:\n",
      "\u001b[31mAttributeError\u001b[39m: 'FPDF' object has no attribute 'unifontsubset'"
     ]
    }
   ],
   "source": [
    "from fpdf import FPDF\n",
    "\n",
    "# Create PDF object\n",
    "pdf = FPDF()\n",
    "\n",
    "# Add a page\n",
    "pdf.add_page()\n",
    "\n",
    "# Define your string content\n",
    "my_string = transcript\n",
    "\n",
    "# Add the string to the PDF\n",
    "pdf.multi_cell(0, 10, my_string) # 0 for full width, 10 for line height\n",
    "\n",
    "# Save the PDF to a file\n",
    "pdf.output(\"../output_string.pdf\")\n"
   ]
  }
 ],
 "metadata": {
  "kernelspec": {
   "display_name": "transcription",
   "language": "python",
   "name": "python3"
  },
  "language_info": {
   "codemirror_mode": {
    "name": "ipython",
    "version": 3
   },
   "file_extension": ".py",
   "mimetype": "text/x-python",
   "name": "python",
   "nbconvert_exporter": "python",
   "pygments_lexer": "ipython3",
   "version": "3.13.5"
  }
 },
 "nbformat": 4,
 "nbformat_minor": 2
}
